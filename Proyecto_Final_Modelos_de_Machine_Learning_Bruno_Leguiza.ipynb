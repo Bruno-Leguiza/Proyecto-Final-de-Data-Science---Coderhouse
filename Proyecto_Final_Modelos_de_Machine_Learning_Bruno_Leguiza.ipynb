{
  "nbformat": 4,
  "nbformat_minor": 0,
  "metadata": {
    "colab": {
      "provenance": []
    },
    "kernelspec": {
      "name": "python3",
      "display_name": "Python 3"
    },
    "language_info": {
      "name": "python"
    }
  },
  "cells": [
    {
      "cell_type": "markdown",
      "source": [
        "**Lo que realice a continuacion es el conjunto de las ultimas 4 entregas ya que me di cuenta que habia mal interprtado las consignas y entendi que habia que realizarlas con un dataset nuevo o distinto al que veniamos utilizando. Por lo tanto a la hora de realizar la presentacion del proyecto final realice los ultimos 4 desafios juntos en esta notebook para hacerlo de forma mas rapida y que me permita continuar con la presentacion del proyecto**"
      ],
      "metadata": {
        "id": "4YBhAhJTs63N"
      }
    },
    {
      "cell_type": "markdown",
      "source": [
        "# Preparación del entorno"
      ],
      "metadata": {
        "id": "3b-6Gw1oK1NQ"
      }
    },
    {
      "cell_type": "code",
      "execution_count": 4,
      "metadata": {
        "id": "AwCL5LPbDBTN"
      },
      "outputs": [],
      "source": [
        "import pandas as pd\n",
        "import numpy as np\n",
        "from sklearn.model_selection import train_test_split\n",
        "from sklearn.linear_model import LinearRegression\n",
        "from sklearn.metrics import mean_squared_error\n",
        "from sklearn.impute import SimpleImputer"
      ]
    },
    {
      "cell_type": "markdown",
      "source": [
        "Reemplace el link de drive por el link del csv de github"
      ],
      "metadata": {
        "id": "vZT8nQ_owOTv"
      }
    },
    {
      "cell_type": "code",
      "source": [
        "# Cargue el conjunto de datos en un DataFrame de Pandas\n",
        "df = pd.read_csv('https://raw.githubusercontent.com/Bruno-Leguiza/Proyecto-Final-de-Data-Science---Coderhouse/main/train.csv')"
      ],
      "metadata": {
        "id": "7gN2hEX3Doi1"
      },
      "execution_count": 5,
      "outputs": []
    },
    {
      "cell_type": "markdown",
      "source": [
        "# **Encoding**"
      ],
      "metadata": {
        "id": "FI1oiuoeK47r"
      }
    },
    {
      "cell_type": "markdown",
      "source": [
        "# Identificacion de Variables Categoricas"
      ],
      "metadata": {
        "id": "wvS0i_17ESst"
      }
    },
    {
      "cell_type": "code",
      "source": [
        "# Visualización de información del DataFrame\n",
        "df.info()"
      ],
      "metadata": {
        "id": "8mhb6WPtEUr7",
        "colab": {
          "base_uri": "https://localhost:8080/"
        },
        "outputId": "54e134b6-39c5-4d7d-82f0-707823d8f912"
      },
      "execution_count": 6,
      "outputs": [
        {
          "output_type": "stream",
          "name": "stdout",
          "text": [
            "<class 'pandas.core.frame.DataFrame'>\n",
            "RangeIndex: 1460 entries, 0 to 1459\n",
            "Data columns (total 81 columns):\n",
            " #   Column         Non-Null Count  Dtype  \n",
            "---  ------         --------------  -----  \n",
            " 0   Id             1460 non-null   int64  \n",
            " 1   MSSubClass     1460 non-null   int64  \n",
            " 2   MSZoning       1460 non-null   object \n",
            " 3   LotFrontage    1201 non-null   float64\n",
            " 4   LotArea        1460 non-null   int64  \n",
            " 5   Street         1460 non-null   object \n",
            " 6   Alley          91 non-null     object \n",
            " 7   LotShape       1460 non-null   object \n",
            " 8   LandContour    1460 non-null   object \n",
            " 9   Utilities      1460 non-null   object \n",
            " 10  LotConfig      1460 non-null   object \n",
            " 11  LandSlope      1460 non-null   object \n",
            " 12  Neighborhood   1460 non-null   object \n",
            " 13  Condition1     1460 non-null   object \n",
            " 14  Condition2     1460 non-null   object \n",
            " 15  BldgType       1460 non-null   object \n",
            " 16  HouseStyle     1460 non-null   object \n",
            " 17  OverallQual    1460 non-null   int64  \n",
            " 18  OverallCond    1460 non-null   int64  \n",
            " 19  YearBuilt      1460 non-null   int64  \n",
            " 20  YearRemodAdd   1460 non-null   int64  \n",
            " 21  RoofStyle      1460 non-null   object \n",
            " 22  RoofMatl       1460 non-null   object \n",
            " 23  Exterior1st    1460 non-null   object \n",
            " 24  Exterior2nd    1460 non-null   object \n",
            " 25  MasVnrType     1452 non-null   object \n",
            " 26  MasVnrArea     1452 non-null   float64\n",
            " 27  ExterQual      1460 non-null   object \n",
            " 28  ExterCond      1460 non-null   object \n",
            " 29  Foundation     1460 non-null   object \n",
            " 30  BsmtQual       1423 non-null   object \n",
            " 31  BsmtCond       1423 non-null   object \n",
            " 32  BsmtExposure   1422 non-null   object \n",
            " 33  BsmtFinType1   1423 non-null   object \n",
            " 34  BsmtFinSF1     1460 non-null   int64  \n",
            " 35  BsmtFinType2   1422 non-null   object \n",
            " 36  BsmtFinSF2     1460 non-null   int64  \n",
            " 37  BsmtUnfSF      1460 non-null   int64  \n",
            " 38  TotalBsmtSF    1460 non-null   int64  \n",
            " 39  Heating        1460 non-null   object \n",
            " 40  HeatingQC      1460 non-null   object \n",
            " 41  CentralAir     1460 non-null   object \n",
            " 42  Electrical     1459 non-null   object \n",
            " 43  1stFlrSF       1460 non-null   int64  \n",
            " 44  2ndFlrSF       1460 non-null   int64  \n",
            " 45  LowQualFinSF   1460 non-null   int64  \n",
            " 46  GrLivArea      1460 non-null   int64  \n",
            " 47  BsmtFullBath   1460 non-null   int64  \n",
            " 48  BsmtHalfBath   1460 non-null   int64  \n",
            " 49  FullBath       1460 non-null   int64  \n",
            " 50  HalfBath       1460 non-null   int64  \n",
            " 51  BedroomAbvGr   1460 non-null   int64  \n",
            " 52  KitchenAbvGr   1460 non-null   int64  \n",
            " 53  KitchenQual    1460 non-null   object \n",
            " 54  TotRmsAbvGrd   1460 non-null   int64  \n",
            " 55  Functional     1460 non-null   object \n",
            " 56  Fireplaces     1460 non-null   int64  \n",
            " 57  FireplaceQu    770 non-null    object \n",
            " 58  GarageType     1379 non-null   object \n",
            " 59  GarageYrBlt    1379 non-null   float64\n",
            " 60  GarageFinish   1379 non-null   object \n",
            " 61  GarageCars     1460 non-null   int64  \n",
            " 62  GarageArea     1460 non-null   int64  \n",
            " 63  GarageQual     1379 non-null   object \n",
            " 64  GarageCond     1379 non-null   object \n",
            " 65  PavedDrive     1460 non-null   object \n",
            " 66  WoodDeckSF     1460 non-null   int64  \n",
            " 67  OpenPorchSF    1460 non-null   int64  \n",
            " 68  EnclosedPorch  1460 non-null   int64  \n",
            " 69  3SsnPorch      1460 non-null   int64  \n",
            " 70  ScreenPorch    1460 non-null   int64  \n",
            " 71  PoolArea       1460 non-null   int64  \n",
            " 72  PoolQC         7 non-null      object \n",
            " 73  Fence          281 non-null    object \n",
            " 74  MiscFeature    54 non-null     object \n",
            " 75  MiscVal        1460 non-null   int64  \n",
            " 76  MoSold         1460 non-null   int64  \n",
            " 77  YrSold         1460 non-null   int64  \n",
            " 78  SaleType       1460 non-null   object \n",
            " 79  SaleCondition  1460 non-null   object \n",
            " 80  SalePrice      1460 non-null   int64  \n",
            "dtypes: float64(3), int64(35), object(43)\n",
            "memory usage: 924.0+ KB\n"
          ]
        }
      ]
    },
    {
      "cell_type": "code",
      "source": [
        "# Identificación de variables categóricas\n",
        "categorical_cols = df.select_dtypes(include=['object', 'category']).columns.tolist()\n",
        "print(categorical_cols)"
      ],
      "metadata": {
        "id": "gTyqfxN-EtKc",
        "colab": {
          "base_uri": "https://localhost:8080/"
        },
        "outputId": "65e1e0f7-aa01-4d6a-8a96-002b04a51de7"
      },
      "execution_count": 7,
      "outputs": [
        {
          "output_type": "stream",
          "name": "stdout",
          "text": [
            "['MSZoning', 'Street', 'Alley', 'LotShape', 'LandContour', 'Utilities', 'LotConfig', 'LandSlope', 'Neighborhood', 'Condition1', 'Condition2', 'BldgType', 'HouseStyle', 'RoofStyle', 'RoofMatl', 'Exterior1st', 'Exterior2nd', 'MasVnrType', 'ExterQual', 'ExterCond', 'Foundation', 'BsmtQual', 'BsmtCond', 'BsmtExposure', 'BsmtFinType1', 'BsmtFinType2', 'Heating', 'HeatingQC', 'CentralAir', 'Electrical', 'KitchenQual', 'Functional', 'FireplaceQu', 'GarageType', 'GarageFinish', 'GarageQual', 'GarageCond', 'PavedDrive', 'PoolQC', 'Fence', 'MiscFeature', 'SaleType', 'SaleCondition']\n"
          ]
        }
      ]
    },
    {
      "cell_type": "markdown",
      "source": [
        "## Aplicamos Técnicas de Encoding:"
      ],
      "metadata": {
        "id": "BtGyvyTtFRjV"
      }
    },
    {
      "cell_type": "code",
      "source": [
        "# Aplicamos One-Hot Encoding a las variables categóricas\n",
        "df_encoded = pd.get_dummies(df, columns=categorical_cols, drop_first=True)"
      ],
      "metadata": {
        "id": "O65dLScnFTZC"
      },
      "execution_count": 8,
      "outputs": []
    },
    {
      "cell_type": "markdown",
      "source": [
        "# **Ingeniería de Atributos**"
      ],
      "metadata": {
        "id": "lOONJiIcI6g8"
      }
    },
    {
      "cell_type": "markdown",
      "source": [
        "# Creación de Nuevas Características"
      ],
      "metadata": {
        "id": "Pn6dQY0kJAbF"
      }
    },
    {
      "cell_type": "markdown",
      "source": [
        "**Creamos una nueva característica basada en la antigüedad de la propiedad:**\n",
        "\n",
        "Esta nueva característica es la diferencia entre el año de venta y el año de construcción o remodelación."
      ],
      "metadata": {
        "id": "IfChbnUQJOnO"
      }
    },
    {
      "cell_type": "code",
      "source": [
        "# Creamos nueva característica 'AntigüedadPropiedad'\n",
        "df_encoded['AntigüedadPropiedad'] = df_encoded['YrSold'] - df_encoded['YearBuilt']"
      ],
      "metadata": {
        "id": "epX9lcHaI77w"
      },
      "execution_count": 9,
      "outputs": []
    },
    {
      "cell_type": "markdown",
      "source": [
        "**Agregamos el área total del sótano:**\n",
        "\n",
        "Sumamos las áreas de los diferentes tipos de áreas del sótano para obtener un área total de sótano."
      ],
      "metadata": {
        "id": "DBjD_n47JZ6b"
      }
    },
    {
      "cell_type": "code",
      "source": [
        "# Creamos nueva característica 'AreaTotalSotano'\n",
        "df_encoded['AreaTotalSotano'] = df_encoded['BsmtFinSF1'] + df_encoded['BsmtFinSF2'] + df_encoded['BsmtUnfSF']"
      ],
      "metadata": {
        "id": "1aXEbeXmJetX"
      },
      "execution_count": 10,
      "outputs": []
    },
    {
      "cell_type": "markdown",
      "source": [
        "**Combinamos características relacionadas:**\n",
        "\n",
        "Combinamos características relacionadas para formar una nueva característica más significativa."
      ],
      "metadata": {
        "id": "O_ZlFKx0JluG"
      }
    },
    {
      "cell_type": "code",
      "source": [
        "# Combinar 'TotalBaños' sumando baños completos y medio baños\n",
        "df_encoded['TotalBaños'] = df_encoded['FullBath'] + df_encoded['HalfBath']"
      ],
      "metadata": {
        "id": "WyiI6Ie1JsL4"
      },
      "execution_count": 11,
      "outputs": []
    },
    {
      "cell_type": "markdown",
      "source": [
        "**Eliminación de Características Redundantes**\n",
        "\n",
        "Eliminamos características redundantes o poco informativas para mejorar el rendimiento del modelo."
      ],
      "metadata": {
        "id": "VRA7D5T2KOid"
      }
    },
    {
      "cell_type": "code",
      "source": [
        "columns_to_drop = ['Id', 'YearBuilt', 'YrSold', 'BsmtFinSF1', 'BsmtFinSF2', 'BsmtUnfSF', 'FullBath', 'HalfBath']\n",
        "df_encoded = df_encoded.drop(columns=columns_to_drop, axis=1)"
      ],
      "metadata": {
        "id": "0vp2pC5pKPS-"
      },
      "execution_count": 12,
      "outputs": []
    },
    {
      "cell_type": "markdown",
      "source": [
        "# **Entrenamiento del Modelo de Machine Learning**"
      ],
      "metadata": {
        "id": "N_VjB6axKxGF"
      }
    },
    {
      "cell_type": "markdown",
      "source": [
        "Para este caso, dado que estamos buscando predecir el precio de las viviendas (una variable continua), utilizaremos un modelo de regresión lineal"
      ],
      "metadata": {
        "id": "kxg_97C3LHjU"
      }
    },
    {
      "cell_type": "code",
      "source": [
        "# Separamos las características (variables independientes) y la variable objetivo\n",
        "X = df_encoded.drop('SalePrice', axis=1)  # Características\n",
        "y = df_encoded['SalePrice']  # Variable objetivo"
      ],
      "metadata": {
        "id": "VxfuHqj4LJFW"
      },
      "execution_count": 13,
      "outputs": []
    },
    {
      "cell_type": "code",
      "source": [
        "# Dividimos el conjunto de datos en conjuntos de entrenamiento y prueba\n",
        "X_train, X_test, y_train, y_test = train_test_split(X, y, test_size=0.2, random_state=42)"
      ],
      "metadata": {
        "id": "3HVf5kZrLT5O"
      },
      "execution_count": 14,
      "outputs": []
    },
    {
      "cell_type": "code",
      "source": [
        "# Crear un imputador para llenar los valores faltantes con la media\n",
        "imputer = SimpleImputer(strategy='mean')\n",
        "\n",
        "# Ajustar el imputador a los datos de entrenamiento y transformar los conjuntos de entrenamiento y prueba\n",
        "X_train_imputed = imputer.fit_transform(X_train)\n",
        "X_test_imputed = imputer.transform(X_test)"
      ],
      "metadata": {
        "id": "chNO3OUjWDJa"
      },
      "execution_count": 15,
      "outputs": []
    },
    {
      "cell_type": "code",
      "source": [
        "# Creamos una instancia del modelo de regresión lineal\n",
        "model = LinearRegression()"
      ],
      "metadata": {
        "id": "XX-qef-FLYSk"
      },
      "execution_count": 16,
      "outputs": []
    },
    {
      "cell_type": "code",
      "source": [
        "# Entrenar el modelo con los datos de entrenamiento imputados\n",
        "model.fit(X_train_imputed, y_train)"
      ],
      "metadata": {
        "id": "T3Z0hZlSLbVa",
        "colab": {
          "base_uri": "https://localhost:8080/",
          "height": 75
        },
        "outputId": "9571dcd2-b203-4fe7-9e86-39c9a93cfd1c"
      },
      "execution_count": 17,
      "outputs": [
        {
          "output_type": "execute_result",
          "data": {
            "text/plain": [
              "LinearRegression()"
            ],
            "text/html": [
              "<style>#sk-container-id-1 {color: black;background-color: white;}#sk-container-id-1 pre{padding: 0;}#sk-container-id-1 div.sk-toggleable {background-color: white;}#sk-container-id-1 label.sk-toggleable__label {cursor: pointer;display: block;width: 100%;margin-bottom: 0;padding: 0.3em;box-sizing: border-box;text-align: center;}#sk-container-id-1 label.sk-toggleable__label-arrow:before {content: \"▸\";float: left;margin-right: 0.25em;color: #696969;}#sk-container-id-1 label.sk-toggleable__label-arrow:hover:before {color: black;}#sk-container-id-1 div.sk-estimator:hover label.sk-toggleable__label-arrow:before {color: black;}#sk-container-id-1 div.sk-toggleable__content {max-height: 0;max-width: 0;overflow: hidden;text-align: left;background-color: #f0f8ff;}#sk-container-id-1 div.sk-toggleable__content pre {margin: 0.2em;color: black;border-radius: 0.25em;background-color: #f0f8ff;}#sk-container-id-1 input.sk-toggleable__control:checked~div.sk-toggleable__content {max-height: 200px;max-width: 100%;overflow: auto;}#sk-container-id-1 input.sk-toggleable__control:checked~label.sk-toggleable__label-arrow:before {content: \"▾\";}#sk-container-id-1 div.sk-estimator input.sk-toggleable__control:checked~label.sk-toggleable__label {background-color: #d4ebff;}#sk-container-id-1 div.sk-label input.sk-toggleable__control:checked~label.sk-toggleable__label {background-color: #d4ebff;}#sk-container-id-1 input.sk-hidden--visually {border: 0;clip: rect(1px 1px 1px 1px);clip: rect(1px, 1px, 1px, 1px);height: 1px;margin: -1px;overflow: hidden;padding: 0;position: absolute;width: 1px;}#sk-container-id-1 div.sk-estimator {font-family: monospace;background-color: #f0f8ff;border: 1px dotted black;border-radius: 0.25em;box-sizing: border-box;margin-bottom: 0.5em;}#sk-container-id-1 div.sk-estimator:hover {background-color: #d4ebff;}#sk-container-id-1 div.sk-parallel-item::after {content: \"\";width: 100%;border-bottom: 1px solid gray;flex-grow: 1;}#sk-container-id-1 div.sk-label:hover label.sk-toggleable__label {background-color: #d4ebff;}#sk-container-id-1 div.sk-serial::before {content: \"\";position: absolute;border-left: 1px solid gray;box-sizing: border-box;top: 0;bottom: 0;left: 50%;z-index: 0;}#sk-container-id-1 div.sk-serial {display: flex;flex-direction: column;align-items: center;background-color: white;padding-right: 0.2em;padding-left: 0.2em;position: relative;}#sk-container-id-1 div.sk-item {position: relative;z-index: 1;}#sk-container-id-1 div.sk-parallel {display: flex;align-items: stretch;justify-content: center;background-color: white;position: relative;}#sk-container-id-1 div.sk-item::before, #sk-container-id-1 div.sk-parallel-item::before {content: \"\";position: absolute;border-left: 1px solid gray;box-sizing: border-box;top: 0;bottom: 0;left: 50%;z-index: -1;}#sk-container-id-1 div.sk-parallel-item {display: flex;flex-direction: column;z-index: 1;position: relative;background-color: white;}#sk-container-id-1 div.sk-parallel-item:first-child::after {align-self: flex-end;width: 50%;}#sk-container-id-1 div.sk-parallel-item:last-child::after {align-self: flex-start;width: 50%;}#sk-container-id-1 div.sk-parallel-item:only-child::after {width: 0;}#sk-container-id-1 div.sk-dashed-wrapped {border: 1px dashed gray;margin: 0 0.4em 0.5em 0.4em;box-sizing: border-box;padding-bottom: 0.4em;background-color: white;}#sk-container-id-1 div.sk-label label {font-family: monospace;font-weight: bold;display: inline-block;line-height: 1.2em;}#sk-container-id-1 div.sk-label-container {text-align: center;}#sk-container-id-1 div.sk-container {/* jupyter's `normalize.less` sets `[hidden] { display: none; }` but bootstrap.min.css set `[hidden] { display: none !important; }` so we also need the `!important` here to be able to override the default hidden behavior on the sphinx rendered scikit-learn.org. See: https://github.com/scikit-learn/scikit-learn/issues/21755 */display: inline-block !important;position: relative;}#sk-container-id-1 div.sk-text-repr-fallback {display: none;}</style><div id=\"sk-container-id-1\" class=\"sk-top-container\"><div class=\"sk-text-repr-fallback\"><pre>LinearRegression()</pre><b>In a Jupyter environment, please rerun this cell to show the HTML representation or trust the notebook. <br />On GitHub, the HTML representation is unable to render, please try loading this page with nbviewer.org.</b></div><div class=\"sk-container\" hidden><div class=\"sk-item\"><div class=\"sk-estimator sk-toggleable\"><input class=\"sk-toggleable__control sk-hidden--visually\" id=\"sk-estimator-id-1\" type=\"checkbox\" checked><label for=\"sk-estimator-id-1\" class=\"sk-toggleable__label sk-toggleable__label-arrow\">LinearRegression</label><div class=\"sk-toggleable__content\"><pre>LinearRegression()</pre></div></div></div></div></div>"
            ]
          },
          "metadata": {},
          "execution_count": 17
        }
      ]
    },
    {
      "cell_type": "code",
      "source": [
        "# Predicciones con el conjunto de prueba\n",
        "predictions = model.predict(X_test_imputed)"
      ],
      "metadata": {
        "id": "cX0_hOdvZOr6"
      },
      "execution_count": 18,
      "outputs": []
    },
    {
      "cell_type": "markdown",
      "source": [
        "Para evaluar la calidad del modelo y su capacidad para predecir los precios de las viviendas, podremos utilizar métricas de evaluación de regresión como el error cuadrático medio (Mean Squared Error - MSE) y el coeficiente de determinación (R-cuadrado)"
      ],
      "metadata": {
        "id": "5ZJN_47cZU5j"
      }
    },
    {
      "cell_type": "code",
      "source": [
        "from sklearn.metrics import mean_squared_error, r2_score\n",
        "\n",
        "# Calculamos el error cuadrático medio (MSE)\n",
        "mse = mean_squared_error(y_test, predictions)\n",
        "print(f\"Mean Squared Error (MSE): {mse}\")\n",
        "\n",
        "# Calculamos el coeficiente de determinación (R-cuadrado)\n",
        "r2 = r2_score(y_test, predictions)\n",
        "print(f\"R-squared (R2): {r2}\")"
      ],
      "metadata": {
        "id": "HjAPyRRaZaSR",
        "colab": {
          "base_uri": "https://localhost:8080/"
        },
        "outputId": "f0d8b941-51f2-492d-d223-d3fa95b762f6"
      },
      "execution_count": 19,
      "outputs": [
        {
          "output_type": "stream",
          "name": "stdout",
          "text": [
            "Mean Squared Error (MSE): 2217301088.8489113\n",
            "R-squared (R2): 0.7109247991602636\n"
          ]
        }
      ]
    },
    {
      "cell_type": "markdown",
      "source": [
        "# Interpretación de estos valores:\n",
        "\n",
        "El MSE es una medida del promedio de los cuadrados de los errores, por lo que un MSE más bajo indica un mejor ajuste del modelo a los datos. En este caso, el MSE es relativamente alto, lo que quiere decir que el modelo todavía tiene cierto margen de mejora en cuanto a ajuste de los datos de prueba.\n",
        "\n",
        "El coeficiente de determinación (R-cuadrado) es una medida que indica la proporción de la varianza en la variable dependiente que es predecible a partir de las variables independientes. Un valor de R-cuadrado cercano a 1 indica un mejor ajuste del modelo a los datos. En este caso, un R-cuadrado de aproximadamente 0.711 indica que el modelo explica aproximadamente el 71.1% de la varianza de los datos de prueba, por lo tanto es un buen resultado, pero aún deja margen para mejoras."
      ],
      "metadata": {
        "id": "D0CA7v51Ztqg"
      }
    },
    {
      "cell_type": "markdown",
      "source": [
        "# **Nueva ingeniería de atributos**"
      ],
      "metadata": {
        "id": "ZlUbOG0zhweI"
      }
    },
    {
      "cell_type": "markdown",
      "source": [
        "# Agregación de características relacionadas:\n",
        "Para esta parte, estaremos creando una nueva característica que capture el total de áreas exteriores, sumando las áreas de porches y espacios exteriores.\n",
        "Esto ayudará a consolidar la información sobre las áreas exteriores, proporcionando una única característica que refleje la suma total de estas áreas."
      ],
      "metadata": {
        "id": "ic0UANsbiZ4l"
      }
    },
    {
      "cell_type": "code",
      "source": [
        "# CreaMOS una nueva característica para capturar el total de áreas exteriores\n",
        "df_encoded['TotalAreasExteriores'] = df_encoded['WoodDeckSF'] + df_encoded['OpenPorchSF'] + df_encoded['EnclosedPorch'] + df_encoded['3SsnPorch'] + df_encoded['ScreenPorch']"
      ],
      "metadata": {
        "id": "OZLEU8VvaFdp"
      },
      "execution_count": 20,
      "outputs": []
    },
    {
      "cell_type": "markdown",
      "source": [
        "# Interacciones entre características\n",
        "\n",
        "En esta sección, realizaremos la multiplicación de características para crear interacciones que puedan tener más significado en la predicción. Esta interacción podría capturar una relación potencial entre la calidad general de la casa y el área habitable, lo cual puede ser relevante en la predicción del precio."
      ],
      "metadata": {
        "id": "bEieSdIhimTe"
      }
    },
    {
      "cell_type": "code",
      "source": [
        "# Multiplicar características para crear interacciones\n",
        "# La interacción entre 'OverallQual' y 'GrLivArea'\n",
        "df_encoded['OverallQual_GrLivArea'] = df_encoded['OverallQual'] * df_encoded['GrLivArea']"
      ],
      "metadata": {
        "id": "-P4yxvIQiof2"
      },
      "execution_count": 21,
      "outputs": []
    },
    {
      "cell_type": "markdown",
      "source": [
        "# Transformaciones adicionales:\n",
        "Para abordar posibles diferencias en escalas entre características, aplicaremos el escalado de características utilizando MinMaxScaler de sklearn. Escalaremos las características seleccionadas para que estén en la misma escala, lo que puede mejorar el rendimiento del modelo."
      ],
      "metadata": {
        "id": "bbxeUarqi8nk"
      }
    },
    {
      "cell_type": "code",
      "source": [
        "from sklearn.preprocessing import MinMaxScaler\n",
        "\n",
        "# Escalar características si tienen diferentes escalas\n",
        "scaler = MinMaxScaler()\n",
        "columns_to_scale = ['LotArea', 'TotalBsmtSF', '1stFlrSF', 'GrLivArea', 'GarageArea']\n",
        "df_encoded[columns_to_scale] = scaler.fit_transform(df_encoded[columns_to_scale])"
      ],
      "metadata": {
        "id": "eEYhprzji_Gl"
      },
      "execution_count": 22,
      "outputs": []
    },
    {
      "cell_type": "markdown",
      "source": [
        "# Manejo avanzado de valores faltantes:\n",
        "Para el manejo avanzado de valores faltantes, utilizaremos IterativeImputer de sklearn para imputar los valores faltantes utilizando un modelo predictivo."
      ],
      "metadata": {
        "id": "Gb2FM2v3jINp"
      }
    },
    {
      "cell_type": "code",
      "source": [
        "from sklearn.experimental import enable_iterative_imputer\n",
        "from sklearn.impute import IterativeImputer\n",
        "\n",
        "# Imputamos valores faltantes utilizando IterativeImputer\n",
        "imputer_advanced = IterativeImputer(random_state=42)\n",
        "df_encoded_imputed = imputer_advanced.fit_transform(df_encoded)\n",
        "df_encoded_imputed = pd.DataFrame(df_encoded_imputed, columns=df_encoded.columns)"
      ],
      "metadata": {
        "id": "j0L2LLRmjK3M"
      },
      "execution_count": null,
      "outputs": []
    },
    {
      "cell_type": "markdown",
      "source": [
        "El uso de **IterativeImputer** permite llenar los valores faltantes de manera más avanzada, utilizando información de las otras características para realizar la imputación."
      ],
      "metadata": {
        "id": "7vSzIIdvsC41"
      }
    },
    {
      "cell_type": "markdown",
      "source": [
        "# **Entrenamiento del Modelo de Machine Learning**"
      ],
      "metadata": {
        "id": "2N8a-TDhvW1m"
      }
    },
    {
      "cell_type": "code",
      "source": [
        "# División del conjunto de datos\n",
        "X = df_encoded_imputed.drop('SalePrice', axis=1)  # Características\n",
        "y = df_encoded_imputed['SalePrice']  # Variable objetivo\n",
        "X_train, X_test, y_train, y_test = train_test_split(X, y, test_size=0.2, random_state=42)"
      ],
      "metadata": {
        "id": "kguNZzx_sEOZ"
      },
      "execution_count": null,
      "outputs": []
    },
    {
      "cell_type": "code",
      "source": [
        "# Entrenamiento de un modelo de regresión\n",
        "# Aquí estamos usando nuevamente LinearRegression como ejemplo, pero podrías explorar otros modelos como RandomForestRegressor, GradientBoostingRegressor, etc.\n",
        "model_improved = LinearRegression()\n",
        "model_improved.fit(X_train, y_train)"
      ],
      "metadata": {
        "id": "PZI9szvpvaOT"
      },
      "execution_count": null,
      "outputs": []
    },
    {
      "cell_type": "code",
      "source": [
        "# Predicciones con el conjunto de prueba utilizando el modelo mejorado\n",
        "predictions_improved = model_improved.predict(X_test)\n",
        "\n",
        "# Evaluación del modelo mejorado\n",
        "mse_improved = mean_squared_error(y_test, predictions_improved)\n",
        "r2_improved = r2_score(y_test, predictions_improved)\n",
        "\n",
        "# Resultados del modelo mejorado\n",
        "print(f\"Mean Squared Error (MSE) del modelo mejorado: {mse_improved}\")\n",
        "print(f\"R-squared (R2) del modelo mejorado: {r2_improved}\")"
      ],
      "metadata": {
        "id": "Sca3Dr-367OF"
      },
      "execution_count": null,
      "outputs": []
    },
    {
      "cell_type": "code",
      "source": [],
      "metadata": {
        "id": "EnBlqm2rUWO3"
      },
      "execution_count": null,
      "outputs": []
    },
    {
      "cell_type": "markdown",
      "source": [
        "# **Implementación de Validación Cruzada**"
      ],
      "metadata": {
        "id": "i4jgUWHo4uR4"
      }
    },
    {
      "cell_type": "markdown",
      "source": [
        "# Manejo de datos faltantes:\n",
        "Antes de aplicar K-fold Cross Validation, verificamos si quedan valores faltantes en el conjunto de datos y realizamos una imputación, si es necesario."
      ],
      "metadata": {
        "id": "x6R3Ep3a4yJv"
      }
    },
    {
      "cell_type": "code",
      "source": [
        "# Verificamos valores faltantes\n",
        "missing_values = df_encoded_imputed.isnull().sum()\n",
        "print(\"Valores faltantes por columna:\\n\", missing_values)"
      ],
      "metadata": {
        "id": "ABepQptZ4vf4"
      },
      "execution_count": null,
      "outputs": []
    },
    {
      "cell_type": "markdown",
      "source": [
        "# Revisión de la relevancia de las características:\n",
        "Vamos a asegurarnos de utilizar solo las características más relevantes para predecir el precio de venta. Emplearemos técnicas de selección de características como la importancia de las características o análisis univariado."
      ],
      "metadata": {
        "id": "MtOEVJhh6PQP"
      }
    },
    {
      "cell_type": "code",
      "source": [
        "from sklearn.feature_selection import SelectKBest, f_regression\n",
        "\n",
        "# Seleccionamos las características más relevantes\n",
        "selector = SelectKBest(score_func=f_regression, k=10)  # Selecciona las 10 mejores características\n",
        "X_selected = selector.fit_transform(X, y)\n",
        "\n",
        "# Obtenemos los índices de las características seleccionadas\n",
        "selected_indices = selector.get_support(indices=True)\n",
        "selected_features = X.columns[selected_indices]\n",
        "print(\"Características más relevantes:\\n\", selected_features)"
      ],
      "metadata": {
        "id": "ySRYe7Nu6ZTj"
      },
      "execution_count": null,
      "outputs": []
    },
    {
      "cell_type": "markdown",
      "source": [
        "# Aplicamos K-fold Cross Validation:\n",
        "Aplicaremos K-fold Cross Validation para evaluar el rendimiento del modelo. Usaremos el modelo de regresión lineal"
      ],
      "metadata": {
        "id": "EfD4JH2l7T98"
      }
    },
    {
      "cell_type": "code",
      "source": [
        "from sklearn.model_selection import cross_val_score, KFold\n",
        "from sklearn.linear_model import LinearRegression\n",
        "import numpy as np\n",
        "\n",
        "# Definimos el modelo de regresión lineal\n",
        "model = LinearRegression()\n",
        "\n",
        "# Definimos K-fold Cross Validation con k = 5\n",
        "k_fold = KFold(n_splits=5, shuffle=True, random_state=42)\n",
        "\n",
        "# Realizamos la validación cruzada\n",
        "mse_scores = cross_val_score(model, X[selected_features], y, scoring='neg_mean_squared_error', cv=k_fold)\n",
        "\n",
        "# Calculamos el promedio del MSE obtenido en las distintas iteraciones\n",
        "avg_mse = np.mean(-mse_scores)  # Se multiplica por -1 porque cross_val_score devuelve el negativo del MSE\n",
        "\n",
        "print(\"Promedio del MSE utilizando K-fold Cross Validation:\", avg_mse)"
      ],
      "metadata": {
        "id": "DavSVk-b7ZJ6"
      },
      "execution_count": null,
      "outputs": []
    },
    {
      "cell_type": "markdown",
      "source": [
        "**Lo que esta debajo de este texto fue realizado de forma rapida mientras desarrollaba la presentacion del proyecto final, ya que anteriormente habia desarrollado un unico modelo de machine learning que era el modelo de regresion lineal, al estar haciendo la presentacion del proyecto me di cuenta que tenia que probar con otros modelos para compara resultados y eso me dio exito. Se ve reflejado en los resultados y esta documentado en la presentacion del proyecto**"
      ],
      "metadata": {
        "id": "QUTQ1wl0sx0F"
      }
    },
    {
      "cell_type": "code",
      "source": [
        "from sklearn.ensemble import RandomForestRegressor\n",
        "\n",
        "# Creamos una instancia del modelo RandomForestRegressor\n",
        "rf_model = RandomForestRegressor(random_state=42)\n",
        "\n",
        "# Entrenamos el modelo con los datos de entrenamiento\n",
        "rf_model.fit(X_train_imputed, y_train)\n",
        "\n",
        "# Realizamos predicciones con el conjunto de prueba\n",
        "rf_predictions = rf_model.predict(X_test_imputed)\n",
        "\n",
        "# Evaluamos el rendimiento del modelo\n",
        "rf_mse = mean_squared_error(y_test, rf_predictions)\n",
        "rf_r2 = r2_score(y_test, rf_predictions)\n",
        "\n",
        "print(f\"RandomForestRegressor - Mean Squared Error (MSE): {rf_mse}\")\n",
        "print(f\"RandomForestRegressor - R-squared (R2): {rf_r2}\")"
      ],
      "metadata": {
        "id": "Lh5VIjIkKQZh"
      },
      "execution_count": null,
      "outputs": []
    },
    {
      "cell_type": "code",
      "source": [
        "from sklearn.ensemble import GradientBoostingRegressor\n",
        "\n",
        "# Creamos una instancia del modelo GradientBoostingRegressor\n",
        "gb_model = GradientBoostingRegressor(random_state=42)\n",
        "\n",
        "# Entrenamos el modelo con los datos de entrenamiento\n",
        "gb_model.fit(X_train_imputed, y_train)\n",
        "\n",
        "# Realizamos predicciones con el conjunto de prueba\n",
        "gb_predictions = gb_model.predict(X_test_imputed)\n",
        "\n",
        "# Evaluamos el rendimiento del modelo\n",
        "gb_mse = mean_squared_error(y_test, gb_predictions)\n",
        "gb_r2 = r2_score(y_test, gb_predictions)\n",
        "\n",
        "print(f\"GradientBoostingRegressor - Mean Squared Error (MSE): {gb_mse}\")\n",
        "print(f\"GradientBoostingRegressor - R-squared (R2): {gb_r2}\")"
      ],
      "metadata": {
        "id": "WKTMFSGHKVBj"
      },
      "execution_count": null,
      "outputs": []
    },
    {
      "cell_type": "code",
      "source": [
        "from sklearn.ensemble import RandomForestRegressor\n",
        "from sklearn.model_selection import GridSearchCV\n",
        "\n",
        "# Definimos el modelo\n",
        "rf = RandomForestRegressor()\n",
        "\n",
        "# Definimos el espacio de búsqueda de hiperparámetros\n",
        "param_grid = {\n",
        "    'n_estimators': [100, 200, 300],\n",
        "    'max_depth': [None, 10, 20, 30],\n",
        "    'min_samples_split': [2, 5, 10]\n",
        "}\n",
        "\n",
        "# Aplicamos GridSearchCV para encontrar los mejores hiperparámetros\n",
        "grid_search = GridSearchCV(estimator=rf, param_grid=param_grid, scoring='neg_mean_squared_error', cv=5)\n",
        "grid_search.fit(X_train, y_train)\n",
        "\n",
        "# Muestra los mejores hiperparámetros encontrados\n",
        "print(grid_search.best_params_)"
      ],
      "metadata": {
        "id": "5UNcbgNtWisf"
      },
      "execution_count": null,
      "outputs": []
    },
    {
      "cell_type": "code",
      "source": [
        "from sklearn.ensemble import GradientBoostingRegressor\n",
        "from sklearn.model_selection import GridSearchCV\n",
        "\n",
        "# Definimos el modelo\n",
        "gb = GradientBoostingRegressor()\n",
        "\n",
        "# Definimos el espacio de búsqueda de hiperparámetros\n",
        "param_grid = {\n",
        "    'n_estimators': [100, 200, 300],\n",
        "    'learning_rate': [0.01, 0.1, 0.5],\n",
        "    'max_depth': [3, 5, 7]\n",
        "}\n",
        "\n",
        "# Aplicamos GridSearchCV para encontrar los mejores hiperparámetros\n",
        "grid_search = GridSearchCV(estimator=gb, param_grid=param_grid, scoring='neg_mean_squared_error', cv=5)\n",
        "grid_search.fit(X_train, y_train)\n",
        "\n",
        "# Muestra los mejores hiperparámetros encontrados\n",
        "print(grid_search.best_params_)"
      ],
      "metadata": {
        "id": "52GPj_CeZ1kx"
      },
      "execution_count": null,
      "outputs": []
    },
    {
      "cell_type": "code",
      "source": [
        "from sklearn.ensemble import RandomForestRegressor\n",
        "\n",
        "# Definimos el modelo con los mejores hiperparámetros encontrados\n",
        "rf_model_optimized = RandomForestRegressor(max_depth=30, min_samples_split=5, n_estimators=200, random_state=42)\n",
        "\n",
        "# Entrenamos el modelo con los datos de entrenamiento\n",
        "rf_model_optimized.fit(X_train, y_train)\n",
        "\n",
        "# Realizamos predicciones con el conjunto de prueba\n",
        "rf_predictions_optimized = rf_model_optimized.predict(X_test)\n",
        "\n",
        "# Evaluamos el rendimiento del modelo optimizado\n",
        "rf_mse_optimized = mean_squared_error(y_test, rf_predictions_optimized)\n",
        "rf_r2_optimized = r2_score(y_test, rf_predictions_optimized)\n",
        "\n",
        "print(f\"RandomForestRegressor Optimizado - Mean Squared Error (MSE): {rf_mse_optimized}\")\n",
        "print(f\"RandomForestRegressor Optimizado - R-squared (R2): {rf_r2_optimized}\")"
      ],
      "metadata": {
        "id": "kFcoP-7mc-hu"
      },
      "execution_count": null,
      "outputs": []
    },
    {
      "cell_type": "code",
      "source": [
        "from sklearn.ensemble import GradientBoostingRegressor\n",
        "\n",
        "# Definimos el modelo con los mejores hiperparámetros encontrados\n",
        "gb_model_optimized = GradientBoostingRegressor(learning_rate=0.1, max_depth=3, n_estimators=300, random_state=42)\n",
        "\n",
        "# Entrenamos el modelo con los datos de entrenamiento\n",
        "gb_model_optimized.fit(X_train, y_train)\n",
        "\n",
        "# Realizamos predicciones con el conjunto de prueba\n",
        "gb_predictions_optimized = gb_model_optimized.predict(X_test)\n",
        "\n",
        "# Evaluamos el rendimiento del modelo optimizado\n",
        "gb_mse_optimized = mean_squared_error(y_test, gb_predictions_optimized)\n",
        "gb_r2_optimized = r2_score(y_test, gb_predictions_optimized)\n",
        "\n",
        "print(f\"GradientBoostingRegressor Optimizado - Mean Squared Error (MSE): {gb_mse_optimized}\")\n",
        "print(f\"GradientBoostingRegressor Optimizado - R-squared (R2): {gb_r2_optimized}\")"
      ],
      "metadata": {
        "id": "_1DGYTTIdApj"
      },
      "execution_count": null,
      "outputs": []
    }
  ]
}